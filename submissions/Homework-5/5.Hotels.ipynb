{
 "metadata": {
  "name": "",
  "signature": "sha256:9d45144b65e184e535ce21c11a60cf4e442d6b0ad9df9fd55a4c9033f75700cc"
 },
 "nbformat": 3,
 "nbformat_minor": 0,
 "worksheets": [
  {
   "cells": [
    {
     "cell_type": "markdown",
     "metadata": {},
     "source": [
      "(In order to load the stylesheet of this notebook, execute the last code cell in this notebook)"
     ]
    },
    {
     "cell_type": "heading",
     "level": 1,
     "metadata": {},
     "source": [
      "Analyzing hotel ratings on Tripadvisor"
     ]
    },
    {
     "cell_type": "markdown",
     "metadata": {},
     "source": [
      "In this homework we will focus on practicing two techniques: web scraping and regression. For the first part, we will build upon the sample code from the Lecture and attempt to get some basic information for each hotel. Then, we will fit a regression model on this information and try to analyze it.   "
     ]
    },
    {
     "cell_type": "markdown",
     "metadata": {},
     "source": [
      "One of the main disadvantages of scraping a website instead of using an API is that, without any notice, the website may change its layout and render our code useless. Something like that happened in our case. Tripadvisor changed the layout of the buttons that we use to navigate between the different pages of the results. This was the main reason people were having problem with executing the code."
     ]
    },
    {
     "cell_type": "markdown",
     "metadata": {},
     "source": [
      "**Task 1 (20 pts)**\n",
      "\n",
      "The first task of the homework is to fix the scraping code. We basically need to replace the part where we are checking if there is another page and getting its link with new code that reflects the new navigation layout. "
     ]
    },
    {
     "cell_type": "markdown",
     "metadata": {},
     "source": [
      "** Task 2 (30 pts)**\n",
      "\n",
      "Then, for each hotel that our search returns, we will \"click\" (with the code of course) on it and scrape the information below.\n",
      "\n",
      "![Information to be scraped](hotel_info.png)\n",
      "\n",
      "Of course, feel free to collect even more data if you want. "
     ]
    },
    {
     "cell_type": "markdown",
     "metadata": {},
     "source": [
      "** Task 3 (20 pts) **\n",
      "\n",
      "Now, we will use regression to analyze this information. First, we will fit a linear regression model that predicts the average rating. For example, for the hotel above, the average rating is\n",
      "\n",
      "$$ \\text{AVG_SCORE} = \\frac{1*31 + 2*33 + 3*98 + 4*504 + 5*1861}{2527}$$\n",
      "\n",
      "Use the model to analyze the important factors that decide the $\\text{AVG_SCORE}$."
     ]
    },
    {
     "cell_type": "markdown",
     "metadata": {},
     "source": [
      "** Task 4 (30 pts) **\n",
      "\n",
      "Finally, we will use logistic regression to decide if a hotel is _excellent_ or not. We classify a hotel as _excellent_ if more than **60%** of its ratings are 5 stars. This is a binary attribute on which we can fit a logistic regression model. As before, use the model to analyze the data.\n",
      "\n",
      "-------"
     ]
    },
    {
     "cell_type": "markdown",
     "metadata": {},
     "source": [
      "In order to use code from a Python script file, we need to put that file in the same folder as the notebook and import it as a library. Then, we will be able to access it's functions. For example, in the case of the lecture code, we could do the following:\n",
      "\n",
      "``` python\n",
      "import scrape_solution as scrape\n",
      "\n",
      "scrape.get_city_page()\n",
      "```\n",
      "\n",
      "Of course, you might need to modify and restructure the code so that it returns what you need."
     ]
    },
    {
     "cell_type": "markdown",
     "metadata": {},
     "source": [
      "----"
     ]
    },
    {
     "cell_type": "markdown",
     "metadata": {},
     "source": [
      "**Task 1 **\n",
      "\n",
      "Here is the snippet of code I changed to fix the scraper solution file."
     ]
    },
    {
     "cell_type": "code",
     "collapsed": false,
     "input": [
      "### code I changed to fix scraper_solution.py\n",
      "\n",
      "    # div = soup.find(\"div\", {\"class\" : \"pagination paginationfillbtm\"})\n",
      "    # # check if this is the last page\n",
      "    # subdiv = div.find(\"div\", {\"id\" : \"pager_bottom\"})\n",
      "\n",
      "\n",
      "    # p = div.findAll('a', text = \"&raquo;\")\n",
      "\n",
      "    # if subdiv.find('span', {'class' : 'guiArw pageEndNext'}):\n",
      "    #     log.info(\"We reached last page\")\n",
      "    #     sys.exit()\n",
      "    # # If not, return the url to the next page\n",
      "    # hrefs = div.findAll('a', href= True)\n",
      "\n",
      "    # for href in hrefs:\n",
      "    #     if href.find(text = \"&raquo;\") is not None:\n",
      "    #         return href['href']"
     ],
     "language": "python",
     "metadata": {},
     "outputs": [],
     "prompt_number": 33
    },
    {
     "cell_type": "markdown",
     "metadata": {},
     "source": [
      "** Task 2 **\n",
      "\n",
      "I ran the scraper file in the terminal and draw from the html files in the data folder directly to avoid dealing with command line arguments."
     ]
    },
    {
     "cell_type": "code",
     "collapsed": false,
     "input": [
      "import os\n",
      "import sys\n",
      "import time\n",
      "import argparse\n",
      "import logging\n",
      "import requests\n",
      "import csv\n",
      "import numpy as np\n",
      "import pandas as pd\n",
      "from BeautifulSoup import BeautifulSoup\n",
      "import scrape_solution as scrape\n",
      "import sklearn.linear_model as linear_model\n",
      "import sklearn.utils as utils\n",
      "import sklearn.cross_validation as cross_validation\n",
      "import sklearn.metrics as metrics\n",
      "import matplotlib.pyplot as plt\n",
      "import seaborn as sns\n",
      "%matplotlib inline\n",
      "\n",
      "base_url = \"http://www.tripadvisor.com/\"\n",
      "user_agent = \"Mozilla/5.0 (Macintosh; Intel Mac OS X 10_10_2) AppleWebKit/537.36 (KHTML, like Gecko) Chrome/41.0.2272.76 Safari/537.36\"\n"
     ],
     "language": "python",
     "metadata": {},
     "outputs": [],
     "prompt_number": 181
    },
    {
     "cell_type": "code",
     "collapsed": false,
     "input": [
      "# adapted from scraper_solution.py code\n",
      "def get_hotel_page(hotel_url, name, datadir=\"hotel_data/\"):\n",
      "    url = base_url + hotel_url\n",
      "    # Sleep 2 sec before starting a new http request\n",
      "    time.sleep(2)\n",
      "    # Request page\n",
      "    headers = { 'User-Agent' : user_agent }\n",
      "    response = requests.get(url, headers=headers)\n",
      "    html = response.text.encode('utf-8')\n",
      "    # Save the webpage\n",
      "    with open(os.path.join(datadir, 'hotel-' + name + '.html'), \"w\") as h:\n",
      "        h.write(html)\n",
      "    return html\n",
      "\n",
      "def parse_hotel_page(html):\n",
      "    soup = BeautifulSoup(html)\n",
      "    results = []\n",
      "    \n",
      "    # container for all info\n",
      "    form = soup.find(\"form\", {\"id\" : \"REVIEW_FILTER_FORM\"})\n",
      "    \n",
      "    # traveler rating data\n",
      "    rating = form.find(\"div\", {\"class\" : \"col2of2 composite\"})\n",
      "    num = rating.findAll(\"span\", {'class':'compositeCount'})\n",
      "    for n in num:\n",
      "        results.append(int(n.text.replace(\",\",\"\")))\n",
      "    \n",
      "    # trip type data\n",
      "    tripType = form.find(\"div\", {'class' : 'trip_type'})\n",
      "    val = tripType.findAll('div', {'class' : 'value'})\n",
      "    for v in val:\n",
      "        if v is not None:\n",
      "            results.append(int(v.text.replace(\",\",\"\")))\n",
      "\n",
      "    # rating summary data\n",
      "    summ = form.find(\"div\", {'id' : 'SUMMARYBOX'})\n",
      "    allRNames = summ.findAll(\"div\", {'class' : 'name'})\n",
      "    allRVal = summ.findAll(\"span\", {'class' : 'rate sprite-rating_s rating_s'})\n",
      "\n",
      "    rData = {} #dictionary because different ratings can be in different orders\n",
      "\n",
      "    for a, val in zip(allRNames, allRVal):\n",
      "        # find and format rating info \n",
      "        rateS = val.find(\"img\")['alt'].split()[0]\n",
      "        rData[a.text] = float(rateS)\n",
      "    \n",
      "    #to make sure order of numbers is consistent for csv file\n",
      "    order = ['Location', 'Sleep Quality', 'Rooms', 'Service', 'Value', 'Cleanliness']\n",
      "    for s in order:\n",
      "        results.append(rData[s])\n",
      "\n",
      "    return results"
     ],
     "language": "python",
     "metadata": {},
     "outputs": [],
     "prompt_number": 102
    },
    {
     "cell_type": "code",
     "collapsed": false,
     "input": [
      "# write data to csv file\n",
      "with open(\"ratings.csv\", \"wb\") as out:\n",
      "    sw = csv.writer(out)\n",
      "    csvHead = ['Hotel Name', 'NumExcellent', 'NumVeryGood', 'NumAverage', \n",
      "               'NumPoor', 'NumTerrible', 'NumFamilies', 'NumCouples', 'NumSolo',\n",
      "               'NumBusiness', 'LocRating', 'SleepRating', 'RoomRating', \n",
      "               'ServiceRating', 'Value Rating', 'CleanRating']\n",
      "    sw.writerow(csvHead)\n",
      "    for i in range(1,4):\n",
      "        with open(\"./data/Boston-hotelist-%s.html\" % i, \"rb\") as html:\n",
      "            soup = BeautifulSoup(html)\n",
      "            hotel_boxes = soup.findAll('div', {'class' :'listing wrap reasoning_v5_wrap jfy_listing p13n_imperfect'})\n",
      "            if not hotel_boxes:\n",
      "                hotel_boxes = soup.findAll('div', {'class' : 'listing easyClear  p13n_imperfect'})\n",
      "\n",
      "            for hot in hotel_boxes:\n",
      "                row = []\n",
      "                \n",
      "                names = hot.findAll(\"div\", {\"class\" : \"quality wrap\"})\n",
      "                if not names:\n",
      "                    names = hot.findAll(\"div\", {'class' : 'listing_title'})\n",
      "                for y in names:\n",
      "                    name = y.find(\"a\", target=\"_blank\").text\n",
      "                    row.append(str(name))\n",
      "                    hot_url = y.find(\"a\", target=\"_blank\")['href']\n",
      "                    hotelHtml = get_hotel_page(hot_url,name.replace(\"/\",\"-\"))\n",
      "                    data = parse_hotel_page(hotelHtml)\n",
      "                    row.extend(data)\n",
      "                sw.writerow(row)"
     ],
     "language": "python",
     "metadata": {},
     "outputs": [],
     "prompt_number": 108
    },
    {
     "cell_type": "markdown",
     "metadata": {},
     "source": [
      "** Task 3 ** \n"
     ]
    },
    {
     "cell_type": "code",
     "collapsed": false,
     "input": [
      "with open(\"ratings.csv\", \"rb\") as infile:\n",
      "    reader = csv.reader(infile)\n",
      "    labels = reader.next()[6:]\n",
      "    names = []\n",
      "    data = []\n",
      "    target = []\n",
      "    while True:\n",
      "        try: \n",
      "            hotel = reader.next()\n",
      "            names.append(hotel[0])\n",
      "            row = map(float,hotel[6:])\n",
      "            \n",
      "            # compute weighted average\n",
      "            ratings = map(float,hotel[1:6])\n",
      "            numR = np.sum(ratings)\n",
      "            weights=range(5,0,-1)\n",
      "            wAvg = np.sum([ratings[x] * weights[x] for x in range(0,5)]) / numR\n",
      "            target.append(wAvg)\n",
      "            data.append(row)\n",
      "            \n",
      "            \n",
      "        except csv.Error:\n",
      "            print \"Error\"\n",
      "        except StopIteration:\n",
      "            print \"Iteration End\"\n",
      "            break\n"
     ],
     "language": "python",
     "metadata": {},
     "outputs": [
      {
       "output_type": "stream",
       "stream": "stdout",
       "text": [
        "Iteration End\n"
       ]
      }
     ],
     "prompt_number": 168
    },
    {
     "cell_type": "code",
     "collapsed": false,
     "input": [
      "data, target = utils.shuffle(data, target, random_state=1)\n",
      "\n",
      "X_train, X_test, y_train, y_test = cross_validation.train_test_split(data, target, \n",
      "                                                test_size=0.4, random_state=0)\n",
      "\n",
      "regr = linear_model.LinearRegression()\n",
      "\n",
      "# regr.fit(X_train, y_train)\n",
      "regr.fit(data, target)\n",
      "\n",
      "# from lecture\n",
      "coefficients = regr.coef_\n",
      "for i in range(len(coefficients)):\n",
      "    print labels[i],\"\\t\",coefficients[i]"
     ],
     "language": "python",
     "metadata": {},
     "outputs": [
      {
       "output_type": "stream",
       "stream": "stdout",
       "text": [
        "NumFamilies \t-0.000198207001125\n",
        "NumCouples \t0.000161242896537\n",
        "NumSolo \t-0.000899503010834\n",
        "NumBusiness \t7.55095525139e-05\n",
        "LocRating \t0.132662962005\n",
        "SleepRating \t0.105962431748\n",
        "RoomRating \t0.267602503551\n",
        "ServiceRating \t0.196988947513\n",
        "Value Rating \t0.132221552377\n",
        "CleanRating \t0.267069649862\n"
       ]
      }
     ],
     "prompt_number": 174
    },
    {
     "cell_type": "markdown",
     "metadata": {},
     "source": [
      "As we can see here, the various ratings have much more effect on the average score than the types of users. This makes sense, however, we can see that on average, couples appear to rate Boston hotels slightly more highly than families or solo travelers. Business travelers' effect is extremely close to zero. Among the ratings, the room rating and cleanliness rating have the most impact by a definitive margin, followed by service, value, location and sleep quality, in that order. It would make sense that sleep quality and location have the lowest impact, as a sleep quality rating is hugely subjective and does not tell the potential traveler much. Location, also, when looking at hotels in Boston, would seem to be of relatively little importance with the wide availability of public transit as well as all being within the city limits. Value, the next highest attribute, is also quite subjective from user to user. "
     ]
    },
    {
     "cell_type": "markdown",
     "metadata": {},
     "source": [
      "** Task 4 **"
     ]
    },
    {
     "cell_type": "code",
     "collapsed": false,
     "input": [
      "with open(\"ratings.csv\", \"rb\") as infile:\n",
      "    reader = csv.reader(infile)\n",
      "    labels = reader.next()[6:]\n",
      "\n",
      "    data = []\n",
      "    target = []\n",
      "    while True:\n",
      "        try: \n",
      "            hotel = reader.next()\n",
      "            row = map(float,hotel[6:])\n",
      "            \n",
      "            # compute weighted average\n",
      "            ratings = map(float,hotel[1:6])\n",
      "            numR = np.sum(ratings)\n",
      "            \n",
      "            perc = ratings[0] / numR\n",
      "            if perc > .6:\n",
      "                exc = 1\n",
      "            else:\n",
      "                exc = 0\n",
      "            \n",
      "            target.append(exc)\n",
      "            data.append(row)\n",
      "            \n",
      "            \n",
      "        except csv.Error:\n",
      "            print \"Error\"\n",
      "        except StopIteration:\n",
      "            print \"Iteration End\"\n",
      "            break\n"
     ],
     "language": "python",
     "metadata": {},
     "outputs": [
      {
       "output_type": "stream",
       "stream": "stdout",
       "text": [
        "Iteration End\n"
       ]
      }
     ],
     "prompt_number": 179
    },
    {
     "cell_type": "code",
     "collapsed": false,
     "input": [
      "logistic_regr = linear_model.LogisticRegression()\n",
      "logistic_regr.fit(data, target)\n",
      "\n",
      "print pd.DataFrame(zip(labels, np.transpose(logistic_regr.coef_)))"
     ],
     "language": "python",
     "metadata": {},
     "outputs": [
      {
       "output_type": "stream",
       "stream": "stdout",
       "text": [
        "               0                    1\n",
        "0    NumFamilies   [0.00173678543418]\n",
        "1     NumCouples   [0.00540063539354]\n",
        "2        NumSolo   [-0.0385773195502]\n",
        "3    NumBusiness  [0.000740715997033]\n",
        "4      LocRating    [-0.189127189576]\n",
        "5    SleepRating    [-0.139428468897]\n",
        "6     RoomRating     [0.491243076317]\n",
        "7  ServiceRating    [-0.221621016411]\n",
        "8   Value Rating     [0.113732538166]\n",
        "9    CleanRating   [-0.0122273319001]\n"
       ]
      }
     ],
     "prompt_number": 184
    },
    {
     "cell_type": "markdown",
     "metadata": {},
     "source": [
      "Again, we see the ratings having more of an impact than the types of visitors, which is intuitive. We also see the room rating have a much larger effect on \"excellency\" than any other attribute. This could make sense, as the experience with the room is the primary interaction a customer has with the hotel. Curiously, location, sleep quality, service and cleanliness actually decrease the likelihood of \"excellency.\" This could, perhaps, be driven by higher expectations associated with their extremely high ratings. Service, which is the most negative among them, is probably the easiest for a consumer to criticize when expecting the best. "
     ]
    },
    {
     "cell_type": "code",
     "collapsed": false,
     "input": [
      "# Code for setting the style of the notebook\n",
      "from IPython.core.display import HTML\n",
      "def css_styling():\n",
      "    styles = open(\"../../theme/custom.css\", \"r\").read()\n",
      "    return HTML(styles)\n",
      "css_styling()"
     ],
     "language": "python",
     "metadata": {},
     "outputs": [
      {
       "html": [
        "<link href='http://fonts.googleapis.com/css?family=EB+Garamond' rel='stylesheet' type='text/css'>\n",
        "<link href='http://fonts.googleapis.com/css?family=Alegreya+Sans:100,300,400,500,700,800,900,100italic,300italic,400italic,500italic,700italic,800italic,900italic' rel='stylesheet' type='text/css'>\n",
        "<link href='http://fonts.googleapis.com/css?family=Source+Code+Pro:300,400' rel='stylesheet' type='text/css'>\n",
        "<style>\n",
        "    @font-face {\n",
        "        font-family: \"Computer Modern\";\n",
        "        src: url('http://mirrors.ctan.org/fonts/cm-unicode/fonts/otf/cmunss.otf');\n",
        "    }\n",
        "    .code_cell {\n",
        "        width: 105ex !important ;\n",
        "        margin-bottom: 15px !important;\n",
        "    }\n",
        "    div.cell {\n",
        "        margin-left: auto;\n",
        "        margin-right: auto;\n",
        "        width: 70%;\n",
        "    }    \n",
        "    div.cell.selected {\n",
        "        border: thin rgba(171, 171, 171, 0.5) dashed;\n",
        "    }\n",
        "    h1 {\n",
        "        font-family: 'Alegreya Sans', sans-serif;\n",
        "    }\n",
        "    h2 {\n",
        "        font-family: 'EB Garamond', serif;\n",
        "    }\n",
        "    h3 {\n",
        "        font-family: 'EB Garamond', serif;\n",
        "        margin-top:12px;\n",
        "        margin-bottom: 3px;\n",
        "    }\n",
        "    h4 {\n",
        "        font-family: 'EB Garamond', serif;\n",
        "    }\n",
        "    h5 {\n",
        "        font-family: 'Alegreya Sans', sans-serif;\n",
        "    }\n",
        "    div.text_cell_render {\n",
        "        font-family: 'EB Garamond',Computer Modern, \"Helvetica Neue\", Arial, Helvetica, Geneva, sans-serif;\n",
        "        line-height: 145%;\n",
        "        font-size: 140%;\n",
        "    }\n",
        "    div.input_area {\n",
        "        border-color: rgba(0,0,0,0.10) !important;\n",
        "        background: #fafafa;\n",
        "    }\n",
        "    .CodeMirror {\n",
        "            font-family: \"Source Code Pro\";\n",
        "            font-size: 90%;\n",
        "    }\n",
        "    .prompt {\n",
        "        display: None;\n",
        "    }\n",
        "    .output {\n",
        "        padding-left: 50px;\n",
        "        padding-top: 5px;\n",
        "    }\n",
        "    .output_wrapper {\n",
        "        padding-left: 5px;\n",
        "        padding-top: inherit;\n",
        "    }\n",
        "    div.output_scroll {\n",
        "        width: inherit;\n",
        "    }\n",
        "    .inner_cell {\n",
        "        padding-left: 5px;\n",
        "    }\n",
        "    .text_cell_render h1 {\n",
        "        font-weight: 200;\n",
        "        font-size: 50pt;\n",
        "        line-height: 100%;\n",
        "        color:#CD2305;\n",
        "        margin-bottom: 0.5em;\n",
        "        margin-top: 0.5em;\n",
        "        display: block;\n",
        "    }\n",
        "    .text_cell_render h5 {\n",
        "        font-weight: 300;\n",
        "        font-size: 16pt;\n",
        "        color: #CD2305;\n",
        "        font-style: italic;\n",
        "        margin-bottom: .5em;\n",
        "        margin-top: 0.5em;\n",
        "        display: block;\n",
        "    }\n",
        "    .warning {\n",
        "        color: rgb( 240, 20, 20 )\n",
        "        }  \n",
        "</style>\n",
        "<script>\n",
        "    MathJax.Hub.Config({\n",
        "                        TeX: {\n",
        "                           extensions: [\"AMSmath.js\"]\n",
        "                           },\n",
        "                tex2jax: {\n",
        "                    inlineMath: [ ['$','$'], [\"\\\\(\",\"\\\\)\"] ],\n",
        "                    displayMath: [ ['$$','$$'], [\"\\\\[\",\"\\\\]\"] ]\n",
        "                },\n",
        "                displayAlign: 'center', // Change this to 'center' to center equations.\n",
        "                \"HTML-CSS\": {\n",
        "                    styles: {'.MathJax_Display': {\"margin\": 4}}\n",
        "                }\n",
        "        });\n",
        "</script>"
       ],
       "metadata": {},
       "output_type": "pyout",
       "prompt_number": 185,
       "text": [
        "<IPython.core.display.HTML at 0x10a909b50>"
       ]
      }
     ],
     "prompt_number": 185
    },
    {
     "cell_type": "code",
     "collapsed": false,
     "input": [],
     "language": "python",
     "metadata": {},
     "outputs": []
    }
   ],
   "metadata": {}
  }
 ]
}